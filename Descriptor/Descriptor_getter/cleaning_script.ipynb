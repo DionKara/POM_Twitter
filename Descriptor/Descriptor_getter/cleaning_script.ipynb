{
 "cells": [
  {
   "cell_type": "code",
   "execution_count": 1,
   "metadata": {},
   "outputs": [],
   "source": [
    "import pandas as pd\n",
    "import numpy as np"
   ]
  },
  {
   "cell_type": "code",
   "execution_count": 299,
   "metadata": {},
   "outputs": [],
   "source": [
    "col_list = [\"lang\", \"tweet_text\", \"created_at\"]\n",
    "    \n",
    "data = pd.read_csv(\"Initial_form/2016_US_election_tweets_0.csv\", usecols = [9,11,12], engine='python', error_bad_lines=False)\n"
   ]
  },
  {
   "cell_type": "code",
   "execution_count": 300,
   "metadata": {},
   "outputs": [
    {
     "data": {
      "text/html": [
       "<div>\n",
       "<style scoped>\n",
       "    .dataframe tbody tr th:only-of-type {\n",
       "        vertical-align: middle;\n",
       "    }\n",
       "\n",
       "    .dataframe tbody tr th {\n",
       "        vertical-align: top;\n",
       "    }\n",
       "\n",
       "    .dataframe thead th {\n",
       "        text-align: right;\n",
       "    }\n",
       "</style>\n",
       "<table border=\"1\" class=\"dataframe\">\n",
       "  <thead>\n",
       "    <tr style=\"text-align: right;\">\n",
       "      <th></th>\n",
       "      <th>lang</th>\n",
       "      <th>tweet_text</th>\n",
       "      <th>created_at</th>\n",
       "    </tr>\n",
       "  </thead>\n",
       "  <tbody>\n",
       "    <tr>\n",
       "      <th>0</th>\n",
       "      <td>en</td>\n",
       "      <td>@zitto007 @MatthewHrenak @FoxNews @HillaryClin...</td>\n",
       "      <td>2016-08-30 14:41:22</td>\n",
       "    </tr>\n",
       "    <tr>\n",
       "      <th>1</th>\n",
       "      <td>en</td>\n",
       "      <td>I think @HumaAbedin should be ashamed that she...</td>\n",
       "      <td>2016-08-30 14:41:22</td>\n",
       "    </tr>\n",
       "    <tr>\n",
       "      <th>2</th>\n",
       "      <td>en</td>\n",
       "      <td>NaN</td>\n",
       "      <td>2016-08-30 14:41:24</td>\n",
       "    </tr>\n",
       "    <tr>\n",
       "      <th>3</th>\n",
       "      <td>en</td>\n",
       "      <td>NaN</td>\n",
       "      <td>2016-08-30 14:41:25</td>\n",
       "    </tr>\n",
       "    <tr>\n",
       "      <th>4</th>\n",
       "      <td>en</td>\n",
       "      <td>NaN</td>\n",
       "      <td>2016-08-30 14:41:25</td>\n",
       "    </tr>\n",
       "  </tbody>\n",
       "</table>\n",
       "</div>"
      ],
      "text/plain": [
       "  lang                                         tweet_text           created_at\n",
       "0   en  @zitto007 @MatthewHrenak @FoxNews @HillaryClin...  2016-08-30 14:41:22\n",
       "1   en  I think @HumaAbedin should be ashamed that she...  2016-08-30 14:41:22\n",
       "2   en                                                NaN  2016-08-30 14:41:24\n",
       "3   en                                                NaN  2016-08-30 14:41:25\n",
       "4   en                                                NaN  2016-08-30 14:41:25"
      ]
     },
     "execution_count": 300,
     "metadata": {},
     "output_type": "execute_result"
    }
   ],
   "source": [
    "data.head()"
   ]
  },
  {
   "cell_type": "code",
   "execution_count": 301,
   "metadata": {},
   "outputs": [
    {
     "data": {
      "text/plain": [
       "(877924, 3)"
      ]
     },
     "execution_count": 301,
     "metadata": {},
     "output_type": "execute_result"
    }
   ],
   "source": [
    "data.shape"
   ]
  },
  {
   "cell_type": "code",
   "execution_count": 302,
   "metadata": {},
   "outputs": [],
   "source": [
    "data.dropna(inplace=True)"
   ]
  },
  {
   "cell_type": "code",
   "execution_count": 303,
   "metadata": {},
   "outputs": [
    {
     "data": {
      "text/plain": [
       "(723991, 3)"
      ]
     },
     "execution_count": 303,
     "metadata": {},
     "output_type": "execute_result"
    }
   ],
   "source": [
    "data.shape"
   ]
  },
  {
   "cell_type": "code",
   "execution_count": 304,
   "metadata": {},
   "outputs": [
    {
     "data": {
      "text/plain": [
       "(678161, 3)"
      ]
     },
     "execution_count": 304,
     "metadata": {},
     "output_type": "execute_result"
    }
   ],
   "source": [
    "data = data.loc[data['lang'] == 'en']\n",
    "\n",
    "data.shape    "
   ]
  },
  {
   "cell_type": "code",
   "execution_count": 305,
   "metadata": {},
   "outputs": [],
   "source": [
    "data.reset_index(drop=True, inplace=True)"
   ]
  },
  {
   "cell_type": "code",
   "execution_count": 306,
   "metadata": {},
   "outputs": [],
   "source": [
    "data = data.drop(['lang'], axis=1)"
   ]
  },
  {
   "cell_type": "code",
   "execution_count": 307,
   "metadata": {},
   "outputs": [
    {
     "data": {
      "text/html": [
       "<div>\n",
       "<style scoped>\n",
       "    .dataframe tbody tr th:only-of-type {\n",
       "        vertical-align: middle;\n",
       "    }\n",
       "\n",
       "    .dataframe tbody tr th {\n",
       "        vertical-align: top;\n",
       "    }\n",
       "\n",
       "    .dataframe thead th {\n",
       "        text-align: right;\n",
       "    }\n",
       "</style>\n",
       "<table border=\"1\" class=\"dataframe\">\n",
       "  <thead>\n",
       "    <tr style=\"text-align: right;\">\n",
       "      <th></th>\n",
       "      <th>tweet_text</th>\n",
       "      <th>created_at</th>\n",
       "    </tr>\n",
       "  </thead>\n",
       "  <tbody>\n",
       "    <tr>\n",
       "      <th>0</th>\n",
       "      <td>@zitto007 @MatthewHrenak @FoxNews @HillaryClin...</td>\n",
       "      <td>2016-08-30 14:41:22</td>\n",
       "    </tr>\n",
       "    <tr>\n",
       "      <th>1</th>\n",
       "      <td>I think @HumaAbedin should be ashamed that she...</td>\n",
       "      <td>2016-08-30 14:41:22</td>\n",
       "    </tr>\n",
       "    <tr>\n",
       "      <th>2</th>\n",
       "      <td>@HillaryClinton @Comeridethwhale so are you! t...</td>\n",
       "      <td>2016-08-30 14:41:28</td>\n",
       "    </tr>\n",
       "    <tr>\n",
       "      <th>3</th>\n",
       "      <td>@BrinckJeff @POTUS @BarackObama What money is ...</td>\n",
       "      <td>2016-08-30 14:41:31</td>\n",
       "    </tr>\n",
       "    <tr>\n",
       "      <th>4</th>\n",
       "      <td>August most violent month in Chicago in nearly...</td>\n",
       "      <td>2016-08-30 14:41:32</td>\n",
       "    </tr>\n",
       "  </tbody>\n",
       "</table>\n",
       "</div>"
      ],
      "text/plain": [
       "                                          tweet_text           created_at\n",
       "0  @zitto007 @MatthewHrenak @FoxNews @HillaryClin...  2016-08-30 14:41:22\n",
       "1  I think @HumaAbedin should be ashamed that she...  2016-08-30 14:41:22\n",
       "2  @HillaryClinton @Comeridethwhale so are you! t...  2016-08-30 14:41:28\n",
       "3  @BrinckJeff @POTUS @BarackObama What money is ...  2016-08-30 14:41:31\n",
       "4  August most violent month in Chicago in nearly...  2016-08-30 14:41:32"
      ]
     },
     "execution_count": 307,
     "metadata": {},
     "output_type": "execute_result"
    }
   ],
   "source": [
    "data.head()"
   ]
  },
  {
   "cell_type": "code",
   "execution_count": 308,
   "metadata": {},
   "outputs": [
    {
     "data": {
      "text/html": [
       "<div>\n",
       "<style scoped>\n",
       "    .dataframe tbody tr th:only-of-type {\n",
       "        vertical-align: middle;\n",
       "    }\n",
       "\n",
       "    .dataframe tbody tr th {\n",
       "        vertical-align: top;\n",
       "    }\n",
       "\n",
       "    .dataframe thead th {\n",
       "        text-align: right;\n",
       "    }\n",
       "</style>\n",
       "<table border=\"1\" class=\"dataframe\">\n",
       "  <thead>\n",
       "    <tr style=\"text-align: right;\">\n",
       "      <th></th>\n",
       "      <th>tweet_text</th>\n",
       "      <th>created_at</th>\n",
       "    </tr>\n",
       "  </thead>\n",
       "  <tbody>\n",
       "    <tr>\n",
       "      <th>0</th>\n",
       "      <td>@zitto007 @MatthewHrenak @FoxNews @HillaryClin...</td>\n",
       "      <td>2016-08-30 14:41:22</td>\n",
       "    </tr>\n",
       "    <tr>\n",
       "      <th>1</th>\n",
       "      <td>I think @HumaAbedin should be ashamed that she...</td>\n",
       "      <td>2016-08-30 14:41:22</td>\n",
       "    </tr>\n",
       "    <tr>\n",
       "      <th>2</th>\n",
       "      <td>@HillaryClinton @Comeridethwhale so are you! t...</td>\n",
       "      <td>2016-08-30 14:41:28</td>\n",
       "    </tr>\n",
       "    <tr>\n",
       "      <th>3</th>\n",
       "      <td>@BrinckJeff @POTUS @BarackObama What money is ...</td>\n",
       "      <td>2016-08-30 14:41:31</td>\n",
       "    </tr>\n",
       "    <tr>\n",
       "      <th>4</th>\n",
       "      <td>August most violent month in Chicago in nearly...</td>\n",
       "      <td>2016-08-30 14:41:32</td>\n",
       "    </tr>\n",
       "  </tbody>\n",
       "</table>\n",
       "</div>"
      ],
      "text/plain": [
       "                                          tweet_text           created_at\n",
       "0  @zitto007 @MatthewHrenak @FoxNews @HillaryClin...  2016-08-30 14:41:22\n",
       "1  I think @HumaAbedin should be ashamed that she...  2016-08-30 14:41:22\n",
       "2  @HillaryClinton @Comeridethwhale so are you! t...  2016-08-30 14:41:28\n",
       "3  @BrinckJeff @POTUS @BarackObama What money is ...  2016-08-30 14:41:31\n",
       "4  August most violent month in Chicago in nearly...  2016-08-30 14:41:32"
      ]
     },
     "execution_count": 308,
     "metadata": {},
     "output_type": "execute_result"
    }
   ],
   "source": [
    "#preprocess used from #1 kernel in kaggle for sentiment140 dataset\n",
    "\n",
    "import nltk\n",
    "from nltk.stem import WordNetLemmatizer\n",
    "\n",
    "from nltk.corpus import stopwords\n",
    "import re\n",
    "\n",
    "\n",
    "HASHTAG_CLEANING_RE = \"#\\S+\"\n",
    "MENTION_CLEANING_RE = \"@\\S+\"\n",
    "TEXT_CLEANING_RE = \"https?:\\S+|http?:\\S|[^A-Za-z0-9]+\"\n",
    "\n",
    "\n",
    "stop_words = stopwords.words(\"english\")\n",
    "lemmatizer = WordNetLemmatizer()\n",
    "\n",
    "\n",
    "\n",
    "def preprocess(text, lemma=True):\n",
    "    # Remove link,user and special characters\n",
    "    text = re.sub(HASHTAG_CLEANING_RE, ' ', str(text).lower())\n",
    "    text = re.sub(MENTION_CLEANING_RE, ' ', str(text).lower())\n",
    "    text = re.sub(TEXT_CLEANING_RE, ' ', str(text).lower()).strip()\n",
    "    tokens = []\n",
    "    for token in text.split():\n",
    "        if token not in stop_words or token in ['not', 'can']:\n",
    "            if lemma:\n",
    "                tokens.append(lemmatizer.lemmatize(token))\n",
    "            else:\n",
    "                tokens.append(token)\n",
    "    return \" \".join(tokens)\n",
    "\n",
    "clean_text = data.tweet_text.apply(lambda x: preprocess(x))\n",
    "\n",
    "data.head()"
   ]
  },
  {
   "cell_type": "code",
   "execution_count": 309,
   "metadata": {},
   "outputs": [
    {
     "data": {
      "text/plain": [
       "0                                      proven another idiot\n",
       "1                  think ashamed stand pervert husband like\n",
       "2                   trump amp stupid as different side coin\n",
       "3         money obama using bring refugee much provide e...\n",
       "4         august violent month chicago nearly 20 year si...\n",
       "                                ...                        \n",
       "678156                                             meet yoy\n",
       "678157                                          thought one\n",
       "678158    can american right mind vote sick amp tired he...\n",
       "678159                              hahaha much doo doo lol\n",
       "678160           personally think bad enemy would breakfast\n",
       "Name: tweet_text, Length: 678161, dtype: object"
      ]
     },
     "execution_count": 309,
     "metadata": {},
     "output_type": "execute_result"
    }
   ],
   "source": [
    "clean_text"
   ]
  },
  {
   "cell_type": "code",
   "execution_count": 310,
   "metadata": {},
   "outputs": [
    {
     "data": {
      "text/plain": [
       "0                                      proven another idiot\n",
       "1                  think ashamed stand pervert husband like\n",
       "2                   trump amp stupid as different side coin\n",
       "3         money obama using bring refugee much provide e...\n",
       "4         august violent month chicago nearly 20 year si...\n",
       "                                ...                        \n",
       "678156                                             meet yoy\n",
       "678157                                          thought one\n",
       "678158    can american right mind vote sick amp tired he...\n",
       "678159                              hahaha much doo doo lol\n",
       "678160           personally think bad enemy would breakfast\n",
       "Name: tweet_text, Length: 675270, dtype: object"
      ]
     },
     "execution_count": 310,
     "metadata": {},
     "output_type": "execute_result"
    }
   ],
   "source": [
    "clean_text.replace('', np.nan, inplace=True)\n",
    "clean_text.dropna(inplace=True)\n",
    "\n",
    "clean_text"
   ]
  },
  {
   "cell_type": "code",
   "execution_count": 311,
   "metadata": {},
   "outputs": [
    {
     "data": {
      "text/plain": [
       "0                                      proven another idiot\n",
       "1                  think ashamed stand pervert husband like\n",
       "2                   trump amp stupid as different side coin\n",
       "3         money obama using bring refugee much provide e...\n",
       "4         august violent month chicago nearly 20 year si...\n",
       "                                ...                        \n",
       "678155    look like bag rice not talking brown especiall...\n",
       "678156                                             meet yoy\n",
       "678158    can american right mind vote sick amp tired he...\n",
       "678159                              hahaha much doo doo lol\n",
       "678160           personally think bad enemy would breakfast\n",
       "Name: tweet_text, Length: 577979, dtype: object"
      ]
     },
     "execution_count": 311,
     "metadata": {},
     "output_type": "execute_result"
    }
   ],
   "source": [
    "clean_text.drop_duplicates(inplace = True)\n",
    "\n",
    "clean_text"
   ]
  },
  {
   "cell_type": "code",
   "execution_count": 312,
   "metadata": {},
   "outputs": [
    {
     "data": {
      "text/plain": [
       "(577979, 2)"
      ]
     },
     "execution_count": 312,
     "metadata": {},
     "output_type": "execute_result"
    }
   ],
   "source": [
    "data = data.iloc[clean_text.index]\n",
    "data = data.reset_index(drop=True)\n",
    "data.shape"
   ]
  },
  {
   "cell_type": "code",
   "execution_count": 313,
   "metadata": {},
   "outputs": [],
   "source": [
    "clean_text = clean_text.reset_index(drop=True)"
   ]
  },
  {
   "cell_type": "code",
   "execution_count": 314,
   "metadata": {},
   "outputs": [
    {
     "data": {
      "text/plain": [
       "0                                      proven another idiot\n",
       "1                  think ashamed stand pervert husband like\n",
       "2                   trump amp stupid as different side coin\n",
       "3         money obama using bring refugee much provide e...\n",
       "4         august violent month chicago nearly 20 year si...\n",
       "                                ...                        \n",
       "577974    look like bag rice not talking brown especiall...\n",
       "577975                                             meet yoy\n",
       "577976    can american right mind vote sick amp tired he...\n",
       "577977                              hahaha much doo doo lol\n",
       "577978           personally think bad enemy would breakfast\n",
       "Name: tweet_text, Length: 577979, dtype: object"
      ]
     },
     "execution_count": 314,
     "metadata": {},
     "output_type": "execute_result"
    }
   ],
   "source": [
    "clean_text"
   ]
  },
  {
   "cell_type": "code",
   "execution_count": 315,
   "metadata": {},
   "outputs": [
    {
     "data": {
      "text/plain": [
       "count    577979.000000\n",
       "mean          7.376071\n",
       "std           3.425129\n",
       "min           1.000000\n",
       "25%           5.000000\n",
       "50%           7.000000\n",
       "75%          10.000000\n",
       "max          28.000000\n",
       "Name: n_words, dtype: float64"
      ]
     },
     "execution_count": 315,
     "metadata": {},
     "output_type": "execute_result"
    }
   ],
   "source": [
    "def count_words(text):\n",
    "    num_words = len(text.split())\n",
    "    return num_words\n",
    "\n",
    "data['n_words'] = clean_text.apply(lambda x: count_words(x))\n",
    "\n",
    "data['n_words'].describe()"
   ]
  },
  {
   "cell_type": "code",
   "execution_count": 316,
   "metadata": {},
   "outputs": [
    {
     "data": {
      "text/html": [
       "<div>\n",
       "<style scoped>\n",
       "    .dataframe tbody tr th:only-of-type {\n",
       "        vertical-align: middle;\n",
       "    }\n",
       "\n",
       "    .dataframe tbody tr th {\n",
       "        vertical-align: top;\n",
       "    }\n",
       "\n",
       "    .dataframe thead th {\n",
       "        text-align: right;\n",
       "    }\n",
       "</style>\n",
       "<table border=\"1\" class=\"dataframe\">\n",
       "  <thead>\n",
       "    <tr style=\"text-align: right;\">\n",
       "      <th></th>\n",
       "      <th>tweet_text</th>\n",
       "      <th>created_at</th>\n",
       "      <th>n_words</th>\n",
       "    </tr>\n",
       "  </thead>\n",
       "  <tbody>\n",
       "    <tr>\n",
       "      <th>577974</th>\n",
       "      <td>@AndreaKuszewski @KellyannePolls @realDonaldTr...</td>\n",
       "      <td>2016-09-03 03:18:34</td>\n",
       "      <td>10</td>\n",
       "    </tr>\n",
       "    <tr>\n",
       "      <th>577975</th>\n",
       "      <td>@HillaryClinton I meet yoy</td>\n",
       "      <td>2016-09-03 03:18:54</td>\n",
       "      <td>2</td>\n",
       "    </tr>\n",
       "    <tr>\n",
       "      <th>577976</th>\n",
       "      <td>How can any American in the right mind vote fo...</td>\n",
       "      <td>2016-09-03 03:19:28</td>\n",
       "      <td>11</td>\n",
       "    </tr>\n",
       "    <tr>\n",
       "      <th>577977</th>\n",
       "      <td>@HillaryClinton hahaha you are In so much doo-...</td>\n",
       "      <td>2016-09-03 03:19:45</td>\n",
       "      <td>5</td>\n",
       "    </tr>\n",
       "    <tr>\n",
       "      <th>577978</th>\n",
       "      <td>@realDonaldTrump Personally, I think he'd be b...</td>\n",
       "      <td>2017-02-18 00:34:37</td>\n",
       "      <td>6</td>\n",
       "    </tr>\n",
       "  </tbody>\n",
       "</table>\n",
       "</div>"
      ],
      "text/plain": [
       "                                               tweet_text  \\\n",
       "577974  @AndreaKuszewski @KellyannePolls @realDonaldTr...   \n",
       "577975                         @HillaryClinton I meet yoy   \n",
       "577976  How can any American in the right mind vote fo...   \n",
       "577977  @HillaryClinton hahaha you are In so much doo-...   \n",
       "577978  @realDonaldTrump Personally, I think he'd be b...   \n",
       "\n",
       "                 created_at  n_words  \n",
       "577974  2016-09-03 03:18:34       10  \n",
       "577975  2016-09-03 03:18:54        2  \n",
       "577976  2016-09-03 03:19:28       11  \n",
       "577977  2016-09-03 03:19:45        5  \n",
       "577978  2017-02-18 00:34:37        6  "
      ]
     },
     "execution_count": 316,
     "metadata": {},
     "output_type": "execute_result"
    }
   ],
   "source": [
    "data.tail()"
   ]
  },
  {
   "cell_type": "code",
   "execution_count": 317,
   "metadata": {},
   "outputs": [
    {
     "data": {
      "text/plain": [
       "(577979, 3)"
      ]
     },
     "execution_count": 317,
     "metadata": {},
     "output_type": "execute_result"
    }
   ],
   "source": [
    "data.shape"
   ]
  },
  {
   "cell_type": "code",
   "execution_count": 318,
   "metadata": {},
   "outputs": [],
   "source": [
    "data = data.loc[data['n_words'] > 4]"
   ]
  },
  {
   "cell_type": "code",
   "execution_count": 319,
   "metadata": {},
   "outputs": [],
   "source": [
    "data = data.reset_index(drop=True)"
   ]
  },
  {
   "cell_type": "code",
   "execution_count": 320,
   "metadata": {},
   "outputs": [
    {
     "data": {
      "text/plain": [
       "(440853, 3)"
      ]
     },
     "execution_count": 320,
     "metadata": {},
     "output_type": "execute_result"
    }
   ],
   "source": [
    "data.shape"
   ]
  },
  {
   "cell_type": "markdown",
   "metadata": {},
   "source": [
    "## Split to Democrats - Republicans"
   ]
  },
  {
   "cell_type": "code",
   "execution_count": 321,
   "metadata": {},
   "outputs": [
    {
     "data": {
      "text/html": [
       "<div>\n",
       "<style scoped>\n",
       "    .dataframe tbody tr th:only-of-type {\n",
       "        vertical-align: middle;\n",
       "    }\n",
       "\n",
       "    .dataframe tbody tr th {\n",
       "        vertical-align: top;\n",
       "    }\n",
       "\n",
       "    .dataframe thead th {\n",
       "        text-align: right;\n",
       "    }\n",
       "</style>\n",
       "<table border=\"1\" class=\"dataframe\">\n",
       "  <thead>\n",
       "    <tr style=\"text-align: right;\">\n",
       "      <th></th>\n",
       "      <th>tweet_text</th>\n",
       "      <th>created_at</th>\n",
       "      <th>n_words</th>\n",
       "    </tr>\n",
       "  </thead>\n",
       "  <tbody>\n",
       "    <tr>\n",
       "      <th>0</th>\n",
       "      <td>I think @HumaAbedin should be ashamed that she...</td>\n",
       "      <td>2016-08-30 14:41:22</td>\n",
       "      <td>6</td>\n",
       "    </tr>\n",
       "    <tr>\n",
       "      <th>1</th>\n",
       "      <td>@HillaryClinton @Comeridethwhale so are you! t...</td>\n",
       "      <td>2016-08-30 14:41:28</td>\n",
       "      <td>7</td>\n",
       "    </tr>\n",
       "    <tr>\n",
       "      <th>2</th>\n",
       "      <td>@BrinckJeff @POTUS @BarackObama What money is ...</td>\n",
       "      <td>2016-08-30 14:41:31</td>\n",
       "      <td>10</td>\n",
       "    </tr>\n",
       "    <tr>\n",
       "      <th>3</th>\n",
       "      <td>August most violent month in Chicago in nearly...</td>\n",
       "      <td>2016-08-30 14:41:32</td>\n",
       "      <td>8</td>\n",
       "    </tr>\n",
       "    <tr>\n",
       "      <th>4</th>\n",
       "      <td>@HillaryClinton https://t.co/pgck0ifrzC atleas...</td>\n",
       "      <td>2016-08-30 14:41:33</td>\n",
       "      <td>6</td>\n",
       "    </tr>\n",
       "  </tbody>\n",
       "</table>\n",
       "</div>"
      ],
      "text/plain": [
       "                                          tweet_text           created_at  \\\n",
       "0  I think @HumaAbedin should be ashamed that she...  2016-08-30 14:41:22   \n",
       "1  @HillaryClinton @Comeridethwhale so are you! t...  2016-08-30 14:41:28   \n",
       "2  @BrinckJeff @POTUS @BarackObama What money is ...  2016-08-30 14:41:31   \n",
       "3  August most violent month in Chicago in nearly...  2016-08-30 14:41:32   \n",
       "4  @HillaryClinton https://t.co/pgck0ifrzC atleas...  2016-08-30 14:41:33   \n",
       "\n",
       "   n_words  \n",
       "0        6  \n",
       "1        7  \n",
       "2       10  \n",
       "3        8  \n",
       "4        6  "
      ]
     },
     "execution_count": 321,
     "metadata": {},
     "output_type": "execute_result"
    }
   ],
   "source": [
    "data.head()"
   ]
  },
  {
   "cell_type": "code",
   "execution_count": 322,
   "metadata": {},
   "outputs": [
    {
     "data": {
      "text/plain": [
       "'Working people: @HillaryClinton, not @realDonaldTrump, is the clear choice for president: https://t.co/ToMsaHGJ4f via @AFLCIO #p2 #1uvote'"
      ]
     },
     "execution_count": 322,
     "metadata": {},
     "output_type": "execute_result"
    }
   ],
   "source": [
    "data['tweet_text'][5]"
   ]
  },
  {
   "cell_type": "code",
   "execution_count": 323,
   "metadata": {},
   "outputs": [],
   "source": [
    "data['party'] = \"\""
   ]
  },
  {
   "cell_type": "code",
   "execution_count": 324,
   "metadata": {},
   "outputs": [
    {
     "name": "stdout",
     "output_type": "stream",
     "text": [
      "Current Time = 18:18:08\n",
      "Current Time = 19:16:33\n"
     ]
    }
   ],
   "source": [
    "from datetime import datetime\n",
    "\n",
    "now = datetime.now()\n",
    "\n",
    "current_time = now.strftime(\"%H:%M:%S\")\n",
    "print(\"Current Time =\", current_time)\n",
    "\n",
    "i=0\n",
    "for si in data['tweet_text']:\n",
    "    \n",
    "    clin = si.find(\"Clinton\")\n",
    "    oba = si.find(\"Obama\")\n",
    "    trum = si.find('Trump')\n",
    "    \n",
    "    if clin==-1 and oba==-1 and trum==-1 :\n",
    "        data.loc[i, ('party')] = 'Nothing'\n",
    "    elif clin==-1 and oba==-1 :\n",
    "        data.loc[i, ('party')] = 'Rep'\n",
    "    elif trum==-1:\n",
    "        data.loc[i, ('party')] = 'Dem'\n",
    "    else:\n",
    "        first = min(clin, oba, trum)\n",
    "        if first==trum:\n",
    "            data.loc[i, ('party')] = 'Rep'\n",
    "        else:\n",
    "            data.loc[i, ('party')] = 'Dem'\n",
    "    i+=1\n",
    "    \n",
    "now = datetime.now()\n",
    "\n",
    "current_time = now.strftime(\"%H:%M:%S\")\n",
    "print(\"Current Time =\", current_time)"
   ]
  },
  {
   "cell_type": "code",
   "execution_count": 325,
   "metadata": {},
   "outputs": [
    {
     "data": {
      "text/plain": [
       "Rep        284184\n",
       "Dem         98868\n",
       "Nothing     57801\n",
       "Name: party, dtype: int64"
      ]
     },
     "execution_count": 325,
     "metadata": {},
     "output_type": "execute_result"
    }
   ],
   "source": [
    "data['party'].value_counts()\n",
    "\n",
    "# Ta nothing einai tweets sta opoia den anaferetai kanenas politikos ara den einai safes se poion anaferetai to tweet (Democrats or Republicans)"
   ]
  },
  {
   "cell_type": "code",
   "execution_count": null,
   "metadata": {},
   "outputs": [],
   "source": []
  },
  {
   "cell_type": "code",
   "execution_count": 326,
   "metadata": {},
   "outputs": [],
   "source": [
    "data.to_csv(\"Cleaned_dataset/2016_US_election_tweets_0_cleaned.csv\",index=False)\n"
   ]
  },
  {
   "cell_type": "markdown",
   "metadata": {},
   "source": [
    "## END"
   ]
  }
 ],
 "metadata": {
  "kernelspec": {
   "display_name": "Python 3",
   "language": "python",
   "name": "python3"
  },
  "language_info": {
   "codemirror_mode": {
    "name": "ipython",
    "version": 3
   },
   "file_extension": ".py",
   "mimetype": "text/x-python",
   "name": "python",
   "nbconvert_exporter": "python",
   "pygments_lexer": "ipython3",
   "version": "3.8.5"
  }
 },
 "nbformat": 4,
 "nbformat_minor": 4
}
